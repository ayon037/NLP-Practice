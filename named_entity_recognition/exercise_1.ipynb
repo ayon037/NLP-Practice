{
 "cells": [
  {
   "cell_type": "code",
   "execution_count": 21,
   "metadata": {},
   "outputs": [],
   "source": [
    "import spacy\n",
    "nlp = spacy.load(\"en_core_web_sm\")"
   ]
  },
  {
   "cell_type": "markdown",
   "metadata": {},
   "source": [
    "## Excersie: 1\n",
    "## 1. Extract all the Geographical (cities, Countries, states) names from a given text\n"
   ]
  },
  {
   "cell_type": "code",
   "execution_count": 22,
   "metadata": {},
   "outputs": [],
   "source": [
    "text = \"\"\"Kiran wants to know the famous foods in each state of India. So, he opened Google and search for this question. Google showed that\n",
    "in Delhi it is Chaat, in Gujarat it is Dal Dhokli, in Tamilnadu it is Pongal, in Andhrapradesh it is Biryani, in Assam it is Papaya Khar,\n",
    "in Bihar it is Litti Chowkha and so on for all other states\"\"\"\n",
    "\n",
    "\n",
    "doc = nlp(text)"
   ]
  },
  {
   "cell_type": "markdown",
   "metadata": {},
   "source": [
    "## Expected Output:\n",
    "\n",
    "## Geographical location Names: [India, Delhi, Gujarat, Tamilnadu, Andhrapradesh, Assam, Bihar]\n",
    "\n",
    "## Count: 7"
   ]
  },
  {
   "cell_type": "code",
   "execution_count": 23,
   "metadata": {},
   "outputs": [
    {
     "data": {
      "text/plain": [
       "['tok2vec', 'tagger', 'parser', 'attribute_ruler', 'lemmatizer', 'ner']"
      ]
     },
     "execution_count": 23,
     "metadata": {},
     "output_type": "execute_result"
    }
   ],
   "source": [
    "nlp.pipe_names"
   ]
  },
  {
   "cell_type": "code",
   "execution_count": 24,
   "metadata": {},
   "outputs": [
    {
     "name": "stdout",
     "output_type": "stream",
     "text": [
      "Kiran  |  GPE  |  Countries, cities, states\n",
      "India  |  GPE  |  Countries, cities, states\n",
      "Google  |  ORG  |  Companies, agencies, institutions, etc.\n",
      "Google  |  ORG  |  Companies, agencies, institutions, etc.\n",
      "Delhi  |  GPE  |  Countries, cities, states\n",
      "Chaat  |  ORG  |  Companies, agencies, institutions, etc.\n",
      "Gujarat  |  GPE  |  Countries, cities, states\n",
      "Dal Dhokli  |  PERSON  |  People, including fictional\n",
      "Tamilnadu  |  GPE  |  Countries, cities, states\n",
      "Pongal  |  PERSON  |  People, including fictional\n",
      "Andhrapradesh  |  GPE  |  Countries, cities, states\n",
      "Biryani  |  PERSON  |  People, including fictional\n",
      "Assam  |  GPE  |  Countries, cities, states\n",
      "Papaya Khar  |  PERSON  |  People, including fictional\n",
      "Bihar  |  GPE  |  Countries, cities, states\n",
      "Litti Chowkha  |  ORG  |  Companies, agencies, institutions, etc.\n"
     ]
    }
   ],
   "source": [
    "for ent in doc.ents:\n",
    "    print(ent.text, \" | \", ent.label_, \" | \", spacy.explain(ent.label_))"
   ]
  },
  {
   "cell_type": "code",
   "execution_count": 25,
   "metadata": {},
   "outputs": [
    {
     "data": {
      "text/plain": [
       "[Kiran, India, Delhi, Gujarat, Tamilnadu, Andhrapradesh, Assam, Bihar]"
      ]
     },
     "execution_count": 25,
     "metadata": {},
     "output_type": "execute_result"
    }
   ],
   "source": [
    "location_names = []\n",
    "for token in doc.ents:\n",
    "    if token.label_ == \"GPE\":\n",
    "        location_names.append(token)\n",
    "\n",
    "location_names"
   ]
  },
  {
   "cell_type": "code",
   "execution_count": 26,
   "metadata": {},
   "outputs": [
    {
     "data": {
      "text/plain": [
       "8"
      ]
     },
     "execution_count": 26,
     "metadata": {},
     "output_type": "execute_result"
    }
   ],
   "source": [
    "len(location_names)"
   ]
  },
  {
   "cell_type": "code",
   "execution_count": null,
   "metadata": {},
   "outputs": [],
   "source": []
  }
 ],
 "metadata": {
  "kernelspec": {
   "display_name": "Python 3",
   "language": "python",
   "name": "python3"
  },
  "language_info": {
   "codemirror_mode": {
    "name": "ipython",
    "version": 3
   },
   "file_extension": ".py",
   "mimetype": "text/x-python",
   "name": "python",
   "nbconvert_exporter": "python",
   "pygments_lexer": "ipython3",
   "version": "3.10.12"
  }
 },
 "nbformat": 4,
 "nbformat_minor": 2
}
